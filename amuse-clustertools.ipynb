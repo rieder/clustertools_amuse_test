{
 "cells": [
  {
   "cell_type": "markdown",
   "id": "33da3818",
   "metadata": {},
   "source": [
    "# Test Clustertools with AMUSE data"
   ]
  },
  {
   "cell_type": "markdown",
   "id": "6d39ce7b",
   "metadata": {},
   "source": [
    "First, make sure the packages are installed / up-to-date"
   ]
  },
  {
   "cell_type": "code",
   "execution_count": null,
   "id": "3b55ce0b",
   "metadata": {},
   "outputs": [],
   "source": [
    "! pip install --upgrade pip\n",
    "! pip install --upgrade amuse-framework\n",
    "! pip install --upgrade clustertools"
   ]
  },
  {
   "cell_type": "markdown",
   "id": "ab81c051",
   "metadata": {},
   "source": [
    "Import packages"
   ]
  },
  {
   "cell_type": "code",
   "execution_count": null,
   "id": "f2c9d039",
   "metadata": {},
   "outputs": [],
   "source": [
    "import numpy as np\n",
    "import clustertools as ct\n",
    "from amuse.units import units, nbody_system, constants\n",
    "from amuse.io import read_set_from_file\n",
    "from amuse.support.console import set_printing_strategy\n",
    "from amuse.ic.plummer import new_plummer_model\n",
    "from amuse.ic.kroupa import new_kroupa_mass_distribution\n",
    "set_printing_strategy('custom', preferred_units=[units.pc, units.Myr, units.kms])"
   ]
  },
  {
   "cell_type": "markdown",
   "id": "0ad95f26",
   "metadata": {},
   "source": [
    "Create a star cluster model"
   ]
  },
  {
   "cell_type": "code",
   "execution_count": null,
   "id": "9eb56fc6",
   "metadata": {},
   "outputs": [],
   "source": [
    "number_of_stars = 3000\n",
    "masses = new_kroupa_mass_distribution(number_of_stars)\n",
    "cluster_radius = 2 | units.pc\n",
    "converter = nbody_system.nbody_to_si(cluster_radius, masses.sum())\n",
    "stars_initial = new_plummer_model(number_of_stars, converter)\n",
    "stars_initial.mass = masses"
   ]
  },
  {
   "cell_type": "markdown",
   "id": "6acb245c",
   "metadata": {},
   "source": [
    "Create a galactic potential model to put the cluster in orbit of"
   ]
  },
  {
   "cell_type": "code",
   "execution_count": null,
   "id": "6aa51f6f",
   "metadata": {},
   "outputs": [],
   "source": [
    "class SimpleGalacticModel:\n",
    "    def __init__(self, radius=1 | units.kpc, mass=1.5e10 | units.MSun, alpha=1.2):\n",
    "        self.radius = radius\n",
    "        self.mass = mass\n",
    "        self.alpha = alpha\n",
    "\n",
    "    def get_gravity_at_point(self, epsilon, x, y, z):\n",
    "        r2 = x**2 + y**2 + z**2 + epsilon**2\n",
    "        r = r2**0.5\n",
    "        m = self.mass * (r/self.radius)**self.alpha\n",
    "        fr = constants.G * m / r2\n",
    "        ax = -fr * x / r\n",
    "        ay = -fr * y / r\n",
    "        az = -fr * z / r\n",
    "        return ax, ay, az\n",
    "\n",
    "    def circular_velocity(self, distance):\n",
    "        m = self.mass * (distance / self.radius)**self.alpha\n",
    "        vc = (constants.G * m/distance)**0.5\n",
    "        return vc\n",
    "\n",
    "    def get_potential_at_point(self, epsilon, x, y, z):\n",
    "        r2 = x**2 + y**2 + z**2 + epsilon**2\n",
    "        r = r2**0.5\n",
    "        c = constants.G * self.mass / self.radius**self.alpha\n",
    "        phi = c / (self.alpha-1) * (r**(self.alpha-1) - self.radius**(self.alpha-1))\n",
    "        return phi"
   ]
  },
  {
   "cell_type": "markdown",
   "id": "c2f0faae",
   "metadata": {},
   "source": [
    "Put the cluster in orbit"
   ]
  },
  {
   "cell_type": "code",
   "execution_count": null,
   "id": "6dfc2d79",
   "metadata": {},
   "outputs": [],
   "source": [
    "galaxy = SimpleGalacticModel()\n",
    "cluster_distance = 100 | units.pc\n",
    "stars_initial.x += cluster_distance\n",
    "stars_initial.vy += 0.8 * galaxy.circular_velocity(cluster_distance)"
   ]
  },
  {
   "cell_type": "markdown",
   "id": "1a5ed826",
   "metadata": {},
   "source": [
    "Manually add stars to ClusterTools (keeping units)"
   ]
  },
  {
   "cell_type": "code",
   "execution_count": null,
   "id": "9c5b5e17",
   "metadata": {},
   "outputs": [],
   "source": [
    "cluster = ct.StarCluster(ctype='amuse', origin='galaxy')\n",
    "s = stars_initial\n",
    "cluster.add_stars(s.x, s.y, s.z, s.vx, s.vy, s.vz, s.mass, s.key)\n",
    "\n",
    "cluster.analyze(sortstars=True)"
   ]
  },
  {
   "cell_type": "markdown",
   "id": "1884b820",
   "metadata": {},
   "source": [
    "**starplot cannot handle AMUSE units, so the cell below fails**"
   ]
  },
  {
   "cell_type": "code",
   "execution_count": null,
   "id": "4cdf8305",
   "metadata": {},
   "outputs": [],
   "source": [
    "ct.starplot(cluster)"
   ]
  },
  {
   "cell_type": "markdown",
   "id": "9e3d55ff",
   "metadata": {},
   "source": [
    "Alternative: directly load AMUSE cluster (this seems to get rid of the AMUSE units)"
   ]
  },
  {
   "cell_type": "code",
   "execution_count": null,
   "id": "92eb0bd3",
   "metadata": {},
   "outputs": [],
   "source": [
    "cluster_direct = ct.load_cluster('amuse', particles=stars_initial, units='pckms', origin='galaxy')\n",
    "cluster_direct.analyze(sortstars=True)\n",
    "ct.starplot(cluster_direct)"
   ]
  },
  {
   "cell_type": "code",
   "execution_count": null,
   "id": "b4b32a3f",
   "metadata": {},
   "outputs": [],
   "source": [
    "# cluster.add_orbit(xgc,ygc,zgc,vxgc,vygc,vzgc)"
   ]
  },
  {
   "cell_type": "code",
   "execution_count": null,
   "id": "5bad7242",
   "metadata": {},
   "outputs": [],
   "source": [
    "def ct_vs_amuse(\n",
    "    ct_x, ct_y, ct_z, ct_vx, ct_vy, ct_vz,\n",
    "    am_x, am_y, am_z, am_vx, am_vy, am_vz,\n",
    "):\n",
    "    print(\n",
    "        f\"Clustertools finds position/velocity: {ct_x}, {ct_y}, {ct_z}, {ct_vx}, {ct_vy}, {ct_vz}\"\n",
    "    )\n",
    "    print(\n",
    "        f\"Difference in position (vs center-of-mass): {ct_x-am_x}, {ct_y-am_y}, {ct_z-am_z}\\n\"\n",
    "        f\"Difference in velocity (vs center-of-mass): {ct_vx-am_vx}, {ct_vy-am_vy}, {ct_vz-am_vz}\\n\"\n",
    "    )"
   ]
  },
  {
   "cell_type": "code",
   "execution_count": null,
   "id": "36cc9eca",
   "metadata": {},
   "outputs": [],
   "source": [
    "ct_x, ct_y, ct_z, ct_vx, ct_vy, ct_vz = cluster.find_centre()\n",
    "am_x, am_y, am_z = stars_initial.center_of_mass()\n",
    "am_vx, am_vy, am_vz = stars_initial.center_of_mass_velocity()\n",
    "dc, cr, crho = stars_initial.densitycentre_coreradius_coredens(unit_converter=converter)\n",
    "am_dx, am_dy, am_dz = dc\n",
    "print(\"CT vs AMUSE center-of-mass:\")\n",
    "ct_vs_amuse(\n",
    "    ct_x, ct_y, ct_z, ct_vx, ct_vy, ct_vz,\n",
    "    am_x, am_y, am_z, am_vx, am_vy, am_vz,\n",
    ")\n",
    "print(\"CT vs AMUSE density center (with Hop, ignore the velocities):\")\n",
    "ct_vs_amuse(\n",
    "    ct_x, ct_y, ct_z, ct_vx, ct_vy, ct_vz,\n",
    "    am_dx, am_dy, am_dz, am_vx, am_vy, am_vz,\n",
    ")"
   ]
  },
  {
   "cell_type": "markdown",
   "id": "c861af1e",
   "metadata": {},
   "source": [
    "**Weird / bug: running the cell above a second time finds the cluster at the origin?**\n",
    "\n",
    "(this problem does not occur when using the code in the cell below)"
   ]
  },
  {
   "cell_type": "code",
   "execution_count": null,
   "id": "60e1ce80",
   "metadata": {},
   "outputs": [],
   "source": [
    "ct_x, ct_y, ct_z, ct_vx, ct_vy, ct_vz = ct.find_centre(cluster)\n",
    "try:\n",
    "    print(f\"Positions are in unit {ct_x.unit}\")\n",
    "except:\n",
    "    print(f\"Not using units - assuming pc/kms\")\n",
    "    ct_x , ct_y, ct_z, ct_vx, ct_vy, ct_vz = ct_x | units.pc, ct_y | units.pc, ct_z | units.pc, ct_vx | units.kms, ct_vy | units.kms, ct_vz | units.kms,\n",
    "\n",
    "print(\"CT vs AMUSE center-of-mass:\")\n",
    "ct_vs_amuse(\n",
    "    ct_x , ct_y, ct_z, ct_vx, ct_vy, ct_vz,\n",
    "    am_x, am_y, am_z, am_vx, am_vy, am_vz,\n",
    ")\n",
    "print(\"CT vs AMUSE density center (with Hop, ignore the velocities):\")\n",
    "ct_vs_amuse(\n",
    "    ct_x, ct_y, ct_z, ct_vx, ct_vy, ct_vz,\n",
    "    am_dx, am_dy, am_dz, am_vx, am_vy, am_vz,\n",
    ")"
   ]
  },
  {
   "cell_type": "markdown",
   "id": "bdd6300c",
   "metadata": {},
   "source": [
    "**Using the center-of-mass in Clustertools seems to ignore the galactic coordinates?**"
   ]
  },
  {
   "cell_type": "code",
   "execution_count": null,
   "id": "08844984",
   "metadata": {},
   "outputs": [],
   "source": [
    "# alternatively, find the center-of-mass rather than density center:\n",
    "ct_x, ct_y, ct_z, ct_vx, ct_vy, ct_vz = cluster.find_centre(density=False)\n",
    "print(\"CT center-of-mass vs AMUSE center-of-mass:\")\n",
    "ct_vs_amuse(\n",
    "    ct_x, ct_y, ct_z, ct_vx, ct_vy, ct_vz,\n",
    "    am_x, am_y, am_z, am_vx, am_vy, am_vz,\n",
    ")\n",
    "print(\"CT center-of-mass vs AMUSE density center (with Hop, ignore the velocities):\")\n",
    "ct_vs_amuse(\n",
    "    ct_x, ct_y, ct_z, ct_vx, ct_vy, ct_vz,\n",
    "    am_dx, am_dy, am_dz, am_vx, am_vy, am_vz,\n",
    ")"
   ]
  },
  {
   "cell_type": "code",
   "execution_count": null,
   "id": "c8fbfb0c",
   "metadata": {},
   "outputs": [],
   "source": [
    "print('Half-Mass Relaxation Time: ',cluster.half_mass_relaxation_time())\n",
    "print('Core Relaxation Time: ',cluster.core_relaxation_time())\n",
    "print('Lagrange Radii: ',cluster.rlagrange())\n",
    "print('Virial Radius: ',cluster.virial_radius())"
   ]
  },
  {
   "cell_type": "markdown",
   "id": "1a54adf4",
   "metadata": {},
   "source": [
    "- Why is this result slightly different than that of cluster? It's the same data...\n",
    "- also, the AMUSE-fed data has units?"
   ]
  },
  {
   "cell_type": "code",
   "execution_count": null,
   "id": "2c60dd0b",
   "metadata": {},
   "outputs": [],
   "source": [
    "ct.skyplot(cluster)"
   ]
  },
  {
   "cell_type": "code",
   "execution_count": null,
   "id": "8a6e2087",
   "metadata": {},
   "outputs": [],
   "source": [
    "ct.skyplot(cluster2)"
   ]
  },
  {
   "cell_type": "markdown",
   "id": "2bca6eba",
   "metadata": {},
   "source": [
    "- Clustertools seems to have some trouble with AMUSE units still. I wonder how it deals with Astropy units?"
   ]
  },
  {
   "cell_type": "code",
   "execution_count": null,
   "id": "37b93cd2",
   "metadata": {},
   "outputs": [],
   "source": [
    "print('Mean radius with numpy =', np.mean(cluster.r))\n",
    "print('Mean radius =', cluster.rmean)\n",
    "\n",
    "print('Half mass radius =', cluster.rm)\n",
    "\n",
    "cluster.rlagrange()\n",
    "print('50% Lagrange Radius = ',cluster.rn[4])"
   ]
  },
  {
   "cell_type": "code",
   "execution_count": null,
   "id": "93d00fa4",
   "metadata": {},
   "outputs": [],
   "source": [
    "print('Mean radius with numpy =', np.mean(cluster2.r))\n",
    "print('Mean radius =', cluster2.rmean)\n",
    "\n",
    "print('Half mass radius =', cluster2.rm)\n",
    "\n",
    "cluster2.rlagrange()\n",
    "print('50% Lagrange Radius = ',cluster2.rn[4])\n"
   ]
  },
  {
   "cell_type": "markdown",
   "id": "cc3cf662",
   "metadata": {},
   "source": [
    "- this doesn't seem to take the cluster's origin into account"
   ]
  },
  {
   "cell_type": "code",
   "execution_count": null,
   "id": "9478976e",
   "metadata": {},
   "outputs": [],
   "source": [
    "cluster.to_kpckms()\n",
    "print('Mean radius with numpy = ',np.mean(cluster.r))\n",
    "print('Mean radius with clustertools = ',cluster.rmean)\n",
    "\n",
    "print('Half mass radius =', cluster.rm)\n",
    "cluster.rlagrange()\n",
    "print('50% Lagrange Radius = ',cluster.rn[4])"
   ]
  },
  {
   "cell_type": "code",
   "execution_count": null,
   "id": "01811860",
   "metadata": {},
   "outputs": [],
   "source": [
    "cluster2.to_kpckms()\n",
    "print('Mean radius with numpy = ',np.mean(cluster2.r))\n",
    "print('Mean radius with clustertools = ',cluster2.rmean)\n",
    "\n",
    "print('Half mass radius =', cluster2.rm)\n",
    "cluster2.rlagrange()\n",
    "print('50% Lagrange Radius = ',cluster2.rn[4])"
   ]
  },
  {
   "cell_type": "markdown",
   "id": "bb5c89b6",
   "metadata": {},
   "source": [
    "- to_kpckms() erases units and moves cluster to origin?\n",
    "- still a difference between the two clusters?"
   ]
  },
  {
   "cell_type": "code",
   "execution_count": null,
   "id": "5b202400",
   "metadata": {},
   "outputs": [],
   "source": [
    "cluster.reset_nbody_scale()\n",
    "print('MASS SCALING: ',cluster.zmbar)\n",
    "print('POSITION SCALING: ',cluster.rbar)\n",
    "print('VELOCITY SCALING: ',cluster.vbar)\n",
    "print('TIME SCALING: ',cluster.tbar)"
   ]
  },
  {
   "cell_type": "markdown",
   "id": "407336c3",
   "metadata": {},
   "source": [
    "- cluster has 2000 stars so this seems logical"
   ]
  },
  {
   "cell_type": "code",
   "execution_count": null,
   "id": "eed54fb7",
   "metadata": {},
   "outputs": [],
   "source": [
    "cluster.to_nbody()\n",
    "ct.starplot(cluster)"
   ]
  },
  {
   "cell_type": "code",
   "execution_count": null,
   "id": "ecdb43c5",
   "metadata": {},
   "outputs": [],
   "source": [
    "cluster.to_radec()\n",
    "ct.starplot(cluster)"
   ]
  },
  {
   "cell_type": "code",
   "execution_count": null,
   "id": "51434b4a",
   "metadata": {},
   "outputs": [],
   "source": [
    "#At the moment, our cluster is not perfectly in virial equilibrium:\n",
    "cluster.energies()\n",
    "print(cluster.qvir)\n",
    "#However it can be scaled such that ``cluster.qvir=-0.5``\n",
    "cluster.virialize()\n",
    "cluster.energies()\n",
    "\n",
    "print('New Qv: ',cluster.qvir)\n"
   ]
  },
  {
   "cell_type": "code",
   "execution_count": null,
   "id": "334aefe0",
   "metadata": {},
   "outputs": [],
   "source": [
    "#At the moment, our cluster is not perfectly in virial equilibrium:\n",
    "cluster2.energies()\n",
    "print(cluster2.qvir)\n",
    "#However it can be scaled such that ``cluster.qvir=-0.5``\n",
    "cluster2.virialize()\n",
    "cluster2.energies()\n",
    "\n",
    "print('New Qv: ',cluster2.qvir)\n"
   ]
  },
  {
   "cell_type": "markdown",
   "id": "47f0e75f",
   "metadata": {},
   "source": [
    "- huh? this doesn't look correct..."
   ]
  },
  {
   "cell_type": "code",
   "execution_count": null,
   "id": "a33add3e",
   "metadata": {},
   "outputs": [],
   "source": [
    "#How many stars have vtheta < 0 in the clustercentric coordinate system\n",
    "cluster.to_cluster()\n",
    "r, theta, z, vr, vtheta, vz = ct.cart_to_cyl(cluster.x,cluster.y,cluster.z,cluster.vx,cluster.vy,cluster.vz)\n",
    "print('Fraction of stars with vtheta<0 =', np.sum(vtheta<0)/cluster.ntot)\n",
    "\n",
    "#Now switch the sign of vtheta for 50% of stars with vtheta<0\n",
    "print('Add rotation of 50%')\n",
    "cluster.add_rotation(qrot=0.5)\n",
    "r, theta, z, vr, vtheta, vz = ct.cart_to_cyl(cluster.x,cluster.y,cluster.z,cluster.vx,cluster.vy,cluster.vz)\n",
    "print('Now fraction of stars with vtheta<0 =', np.sum(vtheta<0)/cluster.ntot)"
   ]
  },
  {
   "cell_type": "code",
   "execution_count": null,
   "id": "744ad677",
   "metadata": {},
   "outputs": [],
   "source": [
    "print('Half-Mass Relaxation Time: ',cluster.half_mass_relaxation_time())\n",
    "print('Core Relaxation Time: ',cluster.core_relaxation_time())\n",
    "print('Lagrange Radii: ',cluster.rlagrange())\n",
    "print('Virial Radius: ',cluster.virial_radius())\n",
    "print(\"projected:\")\n",
    "print('Half-Mass Relaxation Time: ',cluster.half_mass_relaxation_time(projected=True))\n",
    "print('Core Relaxation Time: ',cluster.core_relaxation_time(projected=True))\n",
    "print('Lagrange Radii: ',cluster.rlagrange(projected=True))\n",
    "print('Virial Radius: ',cluster.virial_radius(projected=True))"
   ]
  },
  {
   "cell_type": "code",
   "execution_count": null,
   "id": "6e9332ab",
   "metadata": {},
   "outputs": [],
   "source": [
    "cluster.rcore(plot=True)\n",
    "print(cluster.rc)"
   ]
  },
  {
   "cell_type": "markdown",
   "id": "8ebf4ea7",
   "metadata": {},
   "source": [
    "- Hey, no units?"
   ]
  },
  {
   "cell_type": "code",
   "execution_count": null,
   "id": "05089887",
   "metadata": {},
   "outputs": [],
   "source": [
    "m_mean, m_hist, dm, alpha, ealpha, yalpha, eyalpha = ct.mass_function(cluster,mmin=0.1,mmax=0.8,plot=True)\n"
   ]
  },
  {
   "cell_type": "markdown",
   "id": "df763b45",
   "metadata": {},
   "source": [
    "- Fair enough, the stars are equal mass"
   ]
  },
  {
   "cell_type": "code",
   "execution_count": null,
   "id": "ecb1cd15",
   "metadata": {},
   "outputs": [],
   "source": [
    "m_mean, sigvm, eta, eeta, yeta, eyeta = ct.eta_function(cluster,plot=True)"
   ]
  },
  {
   "cell_type": "markdown",
   "id": "18bd4e33",
   "metadata": {},
   "source": [
    "- again, fair enough"
   ]
  },
  {
   "cell_type": "code",
   "execution_count": null,
   "id": "f42404e1",
   "metadata": {},
   "outputs": [],
   "source": [
    "from galpy.potential import MWPotential2014\n",
    "\n",
    "print('Tidal Radius: ', cluster.rtidal(pot=MWPotential2014))\n",
    "print('Limiting Radius: ', cluster.rlimiting(pot=MWPotential2014,plot=True))"
   ]
  },
  {
   "cell_type": "code",
   "execution_count": null,
   "id": "73061e2a",
   "metadata": {},
   "outputs": [],
   "source": [
    "distance_to_neighbour = ct.closest_star(cluster)\n",
    "print(np.amin(distance_to_neighbour))"
   ]
  },
  {
   "cell_type": "code",
   "execution_count": null,
   "id": "44406d94",
   "metadata": {},
   "outputs": [],
   "source": [
    "rprof, pprof, nprof = ct.rho_prof(cluster,plot=True)"
   ]
  },
  {
   "cell_type": "code",
   "execution_count": null,
   "id": "ecfdda17",
   "metadata": {},
   "outputs": [],
   "source": [
    "rprof, mprof, nprof = ct.m_prof(cluster,plot=True)"
   ]
  },
  {
   "cell_type": "code",
   "execution_count": null,
   "id": "85f7f33a",
   "metadata": {},
   "outputs": [],
   "source": [
    "rprof, mprof, nprof = ct.m_prof(cluster,plot=True,cumulative=True)"
   ]
  },
  {
   "cell_type": "code",
   "execution_count": null,
   "id": "5c47afee",
   "metadata": {},
   "outputs": [],
   "source": [
    "rprof, vcprof, rvmax, vmax = ct.vcirc_prof(cluster,plot=True,nrad=None)\n",
    "print(rvmax,vmax)"
   ]
  },
  {
   "cell_type": "code",
   "execution_count": null,
   "id": "5f3d955b",
   "metadata": {},
   "outputs": [],
   "source": [
    "rprofn, sigvprof = ct.sigv_prof(cluster,plot=True)\n",
    "rprofn_r, sigvprof_r = ct.sigv_prof(cluster,coord='r',plot=True)\n",
    "rprofn_phi, sigvprof_phi = ct.sigv_prof(cluster,coord='phi',plot=True)\n",
    "rprofn_theta, sigvprof_theta = ct.sigv_prof(cluster,coord='theta',plot=True)"
   ]
  },
  {
   "cell_type": "code",
   "execution_count": null,
   "id": "53563772",
   "metadata": {},
   "outputs": [],
   "source": [
    "rprofn, betaprof = ct.beta_prof(cluster,plot=True)"
   ]
  },
  {
   "cell_type": "markdown",
   "id": "b50c80f8",
   "metadata": {},
   "source": [
    "- Line rather than scattered? Differs from documentation"
   ]
  },
  {
   "cell_type": "code",
   "execution_count": null,
   "id": "82402929",
   "metadata": {},
   "outputs": [],
   "source": [
    "rprofn, vprof = ct.v_prof(cluster,plot=True)\n"
   ]
  },
  {
   "cell_type": "code",
   "execution_count": null,
   "id": "89c703f5",
   "metadata": {},
   "outputs": [],
   "source": [
    "rprofn, aprof, dalpha, edalpha, ydalpha, eydalpha = ct.alpha_prof(cluster,mmin=0.1,mmax=0.8, plot=True, normalize=True)"
   ]
  },
  {
   "cell_type": "code",
   "execution_count": null,
   "id": "3d7fb326",
   "metadata": {},
   "outputs": [],
   "source": [
    "rprofn, eprof, deta, edeta, ydeta, eydeta = ct.eta_prof(cluster,plot=True, normalize=True)"
   ]
  },
  {
   "cell_type": "code",
   "execution_count": null,
   "id": "485dfa11",
   "metadata": {},
   "outputs": [],
   "source": [
    "rprofn, meqprof, dmeq, edmeq, ydmeq, eydmeq = ct.meq_prof(cluster,plot=True, normalize=True)"
   ]
  },
  {
   "cell_type": "code",
   "execution_count": null,
   "id": "dc1b7f46",
   "metadata": {},
   "outputs": [],
   "source": []
  }
 ],
 "metadata": {
  "kernelspec": {
   "display_name": "Python 3 (ipykernel)",
   "language": "python",
   "name": "python3"
  },
  "language_info": {
   "codemirror_mode": {
    "name": "ipython",
    "version": 3
   },
   "file_extension": ".py",
   "mimetype": "text/x-python",
   "name": "python",
   "nbconvert_exporter": "python",
   "pygments_lexer": "ipython3",
   "version": "3.10.10"
  }
 },
 "nbformat": 4,
 "nbformat_minor": 5
}
